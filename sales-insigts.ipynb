{
 "cells": [
  {
   "cell_type": "code",
   "execution_count": 2,
   "id": "b05b1811-155c-47f0-8c5d-bc96487e228c",
   "metadata": {},
   "outputs": [],
   "source": [
    "#Description: A retail dataset from a global superstore spanning 4 years, \n",
    "#ideal for performing exploratory data analysis (EDA) and predicting future sales."
   ]
  },
  {
   "cell_type": "code",
   "execution_count": 28,
   "id": "f5c79e86-4ebe-4bbf-86c6-3c3508a01662",
   "metadata": {},
   "outputs": [
    {
     "name": "stdout",
     "output_type": "stream",
     "text": [
      "Total sales for East: 669518.73\n",
      "Average sale for East: 240.40\n",
      "Total sales for West: 710219.68\n",
      "Average sale for West: 226.18\n",
      "Total sales for North: 0.00\n",
      "Average sale for North: 0.00\n",
      "Total sales for South: 389151.46\n",
      "Average sale for South: 243.52\n",
      "Top West\n"
     ]
    }
   ],
   "source": [
    "import csv\n",
    "salesByRegion = {\"East\":0, \"West\":0, \"North\": 0, \"South\": 0}\n",
    "salesCountByRegion = {\"East\":0, \"West\":0, \"North\": 0, \"South\": 0}\n",
    "with open(\"superstore.csv\",encoding=\"utf-8\") as sd:\n",
    "    reader = csv.DictReader(sd)\n",
    "\n",
    "   \n",
    "    for row in reader:\n",
    "        sale = float(row[\"Sales\"])\n",
    "        region = row[\"Region\"]\n",
    "        if(region in salesByRegion):\n",
    "           salesByRegion[region] = salesByRegion[region]+  sale\n",
    "           salesCountByRegion[region] = salesCountByRegion[region]+  1        \n",
    "    \n",
    "    # Print totals and averages\n",
    "    for region in [\"East\", \"West\", \"North\", \"South\"]:\n",
    "        average = salesByRegion[region] / salesCountByRegion[region] if salesCountByRegion[region] > 0 else 0\n",
    "        print(f\"Total sales for {region}: {salesByRegion[region]:.2f}\")\n",
    "        print(f\"Average sale for {region}: {average:.2f}\")\n",
    "\n",
    "# Top performing region\n",
    "    print(\"Top\", max(salesByRegion, key=salesByRegion.get))\n",
    "            "
   ]
  },
  {
   "cell_type": "code",
   "execution_count": null,
   "id": "d62b7109-cbd4-4336-a98c-f4bd2cb4afa9",
   "metadata": {},
   "outputs": [],
   "source": []
  }
 ],
 "metadata": {
  "kernelspec": {
   "display_name": "Python 3 (ipykernel)",
   "language": "python",
   "name": "python3"
  },
  "language_info": {
   "codemirror_mode": {
    "name": "ipython",
    "version": 3
   },
   "file_extension": ".py",
   "mimetype": "text/x-python",
   "name": "python",
   "nbconvert_exporter": "python",
   "pygments_lexer": "ipython3",
   "version": "3.14.0"
  }
 },
 "nbformat": 4,
 "nbformat_minor": 5
}
