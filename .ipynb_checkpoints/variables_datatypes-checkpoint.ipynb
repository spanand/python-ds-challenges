{
 "cells": [
  {
   "cell_type": "code",
   "execution_count": 1,
   "id": "a6925dbd-9991-44e4-853f-46ffab5e56aa",
   "metadata": {},
   "outputs": [],
   "source": [
    "#Step 1. Variables & Data Types"
   ]
  },
  {
   "cell_type": "code",
   "execution_count": 2,
   "id": "a142a61f-eda0-469b-b1be-a3fc91d87c10",
   "metadata": {},
   "outputs": [],
   "source": [
    "#Numbers"
   ]
  },
  {
   "cell_type": "code",
   "execution_count": 3,
   "id": "4cfe1c42-7530-4129-85c2-9587a6c0672b",
   "metadata": {},
   "outputs": [
    {
     "name": "stdout",
     "output_type": "stream",
     "text": [
      "200\n"
     ]
    }
   ],
   "source": [
    "x=10\n",
    "y = 20\n",
    "print(x*y)"
   ]
  },
  {
   "cell_type": "code",
   "execution_count": 4,
   "id": "18a7db63-9b4d-4a72-bcc4-d2e91ab6c9b3",
   "metadata": {},
   "outputs": [],
   "source": [
    "#Strings"
   ]
  },
  {
   "cell_type": "code",
   "execution_count": 9,
   "id": "f94de27f-4b51-483c-9cdc-cddd66b16530",
   "metadata": {},
   "outputs": [
    {
     "name": "stdout",
     "output_type": "stream",
     "text": [
      "Learning Python for Data science\n"
     ]
    }
   ],
   "source": [
    "name = \"Python\"\n",
    "print(\"Learning\", name ,\"for Data science\")"
   ]
  },
  {
   "cell_type": "code",
   "execution_count": 10,
   "id": "b211f513-9c11-4e99-a9c8-2518c1e945a5",
   "metadata": {},
   "outputs": [],
   "source": [
    "## Lists"
   ]
  },
  {
   "cell_type": "code",
   "execution_count": 15,
   "id": "de15fae2-be6a-4609-a49d-eb8ee4b7b0c1",
   "metadata": {},
   "outputs": [
    {
     "name": "stdout",
     "output_type": "stream",
     "text": [
      "[1, 2, 3, 4, 5]\n",
      "[1, 2, 3, 4, 6]\n",
      "1 6\n"
     ]
    }
   ],
   "source": [
    "collection = [1,2,3,4,5]\n",
    "print(collection)\n",
    "\n",
    "#add new item to the collection\n",
    "collection[4] = 6\n",
    "print(collection)\n",
    "\n",
    "print(collection[0],collection[-1])\n"
   ]
  },
  {
   "cell_type": "code",
   "execution_count": 18,
   "id": "71e5733c-cff0-40cf-8332-4d1539c00d45",
   "metadata": {},
   "outputs": [
    {
     "name": "stdout",
     "output_type": "stream",
     "text": [
      "Anand\n"
     ]
    }
   ],
   "source": [
    "# Dictionaries\n",
    "person = {\"name\":\"Anand\", \"role\":\"Data scientist\" , \"exp\":\"15\"}\n",
    "print(person[\"name\"])"
   ]
  },
  {
   "cell_type": "code",
   "execution_count": 19,
   "id": "4f359192-76c0-4f2a-9b4e-06c9ecb65bc5",
   "metadata": {},
   "outputs": [],
   "source": [
    "#Challenge 1 Create a dictionary called student with fields name, age, and courses (as a list).\n",
    "#Then print:\n",
    "\n",
    "#“<name> is taking <number> courses.”"
   ]
  },
  {
   "cell_type": "code",
   "execution_count": 26,
   "id": "7021d01a-97e8-43a9-bf66-91ecc77d5e12",
   "metadata": {},
   "outputs": [
    {
     "name": "stdout",
     "output_type": "stream",
     "text": [
      "Anand is taking 3 courses\n"
     ]
    }
   ],
   "source": [
    "student={\"name\":\"Anand\",\"age\":\"38\",\"courses\":[\"A\", \"B\", \"C\"]}\n",
    "print(student[\"name\"], \"is taking\" ,len(student[\"courses\"]), \"courses\")"
   ]
  },
  {
   "cell_type": "code",
   "execution_count": 27,
   "id": "42fe9cea-54e6-4b7a-a151-9946a4d74648",
   "metadata": {},
   "outputs": [],
   "source": [
    "#Step 2. Loops & Conditions"
   ]
  },
  {
   "cell_type": "code",
   "execution_count": 39,
   "id": "11415605-c356-420d-9799-1249e1326f9e",
   "metadata": {},
   "outputs": [
    {
     "name": "stdout",
     "output_type": "stream",
     "text": [
      "Odd [1, 3]\n",
      "Event [2, 4, 6]\n",
      "Odd [1, 3]\n",
      "Event [2, 4, 6]\n"
     ]
    }
   ],
   "source": [
    "oddCollection = []\n",
    "eventCollection = []\n",
    "for col in collection:\n",
    "    if(col%2):\n",
    "        oddCollection.append(col)\n",
    "    else: \n",
    "        eventCollection.append(col)\n",
    "print(\"Odd\", oddCollection)\n",
    "print(\"Event\", eventCollection)\n",
    "\n",
    "\n",
    "#Pythonic version \n",
    "odd = [x for x in collection if x%2]\n",
    "even = [x for x in collection  if not x%2]\n",
    "\n",
    "print(\"Odd\", odd)\n",
    "print(\"Event\", even)"
   ]
  },
  {
   "cell_type": "code",
   "execution_count": 40,
   "id": "95aa03b1-0b02-47bd-ab1d-89ab8c039d7e",
   "metadata": {},
   "outputs": [],
   "source": [
    "#Challenge  - Create a function called describe_student(student)"
   ]
  },
  {
   "cell_type": "code",
   "execution_count": 41,
   "id": "393819b9-9294-4e97-bd11-d6d097feeb34",
   "metadata": {},
   "outputs": [],
   "source": [
    "def describe_student(student):\n",
    "    print(f\"{student[\"name\"]} is {student[\"age\"]} years old and enrolled in {len(student[\"courses\"])} courses\")\n",
    "    "
   ]
  },
  {
   "cell_type": "code",
   "execution_count": 42,
   "id": "fb8bcd15-3e96-46cd-9f4a-d0db62e87a9a",
   "metadata": {},
   "outputs": [
    {
     "name": "stdout",
     "output_type": "stream",
     "text": [
      "Anand is 38 years old and enrolled in 3 courses\n"
     ]
    }
   ],
   "source": [
    "student = {\"name\": \"Anand\", \"age\": 38, \"courses\": [\"A\", \"B\", \"C\"]}\n",
    "describe_student(student)"
   ]
  },
  {
   "cell_type": "code",
   "execution_count": 43,
   "id": "e034bab2-b48f-4d69-8b4e-e06864284a87",
   "metadata": {},
   "outputs": [],
   "source": [
    "#Challenge 4 (Reading Data from CSV)"
   ]
  },
  {
   "cell_type": "code",
   "execution_count": 68,
   "id": "88255e98-8a81-4149-98b8-adb6084530c4",
   "metadata": {},
   "outputs": [],
   "source": [
    "import csv\n",
    "\n",
    "with open(\"student-por.csv\") as f:\n",
    "    reader = csv.DictReader(f)\n",
    "    for r in reader:\n",
    "            if(int(r['G3']) > 90):\n",
    "                print(r['studytime'])      \n",
    "    "
   ]
  },
  {
   "cell_type": "code",
   "execution_count": 69,
   "id": "49f1306c-1bad-4a83-b21c-b666cd64dbf7",
   "metadata": {},
   "outputs": [],
   "source": [
    "#Challenge 5: Average Score Function"
   ]
  },
  {
   "cell_type": "code",
   "execution_count": 75,
   "id": "2cf6efc6-82fb-4bef-989c-716eb6144cd7",
   "metadata": {},
   "outputs": [
    {
     "name": "stdout",
     "output_type": "stream",
     "text": [
      "average 11.906009244992296\n",
      "top_grade {'studyTime': 4, 'grade': 19}\n"
     ]
    }
   ],
   "source": [
    "import csv\n",
    "\n",
    "def average_score():\n",
    "    scores=[]\n",
    "    with open(\"student-por.csv\") as f:\n",
    "        reader = csv.DictReader(f)\n",
    "        for row in reader:\n",
    "            scores.append(int(row['G3']))\n",
    "\n",
    "        average = sum(scores)/len(scores)\n",
    "        return average\n",
    "\n",
    "def top_grade():\n",
    "    topGrade ={\"studyTime\":0, \"grade\":0}\n",
    "    with open(\"student-por.csv\") as f:\n",
    "        reader = csv.DictReader(f)\n",
    "        for row in reader:\n",
    "            if(int(row['G3']) > topGrade[\"grade\"]):\n",
    "                topGrade ={\"studyTime\":int(row['studytime']), \"grade\":int(row['G3'])}       \n",
    "    \n",
    "        return topGrade\n",
    "\n",
    "\n",
    "print(\"average\",average_score())\n",
    "print(\"top_grade\",top_grade())\n",
    "    "
   ]
  },
  {
   "cell_type": "code",
   "execution_count": null,
   "id": "4f4660f0-8416-48a3-b043-d5bc97befd4d",
   "metadata": {},
   "outputs": [],
   "source": []
  }
 ],
 "metadata": {
  "kernelspec": {
   "display_name": "Python 3 (ipykernel)",
   "language": "python",
   "name": "python3"
  },
  "language_info": {
   "codemirror_mode": {
    "name": "ipython",
    "version": 3
   },
   "file_extension": ".py",
   "mimetype": "text/x-python",
   "name": "python",
   "nbconvert_exporter": "python",
   "pygments_lexer": "ipython3",
   "version": "3.14.0"
  }
 },
 "nbformat": 4,
 "nbformat_minor": 5
}
